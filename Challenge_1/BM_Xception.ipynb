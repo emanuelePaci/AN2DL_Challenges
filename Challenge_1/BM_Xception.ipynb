{
 "cells": [
  {
   "cell_type": "code",
   "execution_count": null,
   "metadata": {
    "_cell_guid": "b1076dfc-b9ad-4769-8c92-a6c4dae69d19",
    "_uuid": "8f2839f25d086af736a60e9eeb907d3b93b6e0e5"
   },
   "outputs": [],
   "source": [
    "import tensorflow as tf\n",
    "from tensorflow.keras.layers import Dense, GlobalAveragePooling2D, Flatten\n",
    "from tensorflow.keras.callbacks import TensorBoard\n",
    "import numpy as np\n",
    "import os\n",
    "import random\n",
    "import keras_tuner\n",
    "\n",
    "tfk = tf.keras\n",
    "tfkl = tf.keras.layers"
   ]
  },
  {
   "cell_type": "code",
   "execution_count": null,
   "metadata": {},
   "outputs": [],
   "source": [
    "seed = 6\n",
    "batch_size = 64\n",
    "input_shape = (96, 96, 3)\n",
    "epochs = 200\n",
    "fine_tuning_locked = 12\n",
    "\n",
    "random.seed(seed)\n",
    "os.environ['PYTHONHASHSEED'] = str(seed)\n",
    "np.random.seed(seed)\n",
    "tf.random.set_seed(seed)\n",
    "tf.compat.v1.set_random_seed(seed)"
   ]
  },
  {
   "cell_type": "code",
   "execution_count": null,
   "metadata": {},
   "outputs": [],
   "source": [
    "dataset_dir_train = '../data5/training'\n",
    "dataset_dir_val = '../data5/validation'\n",
    "\n",
    "labels = ['Species1',       # 0\n",
    "          'Species2',       # 1\n",
    "          'Species3',       # 2\n",
    "          'Species4',       # 3\n",
    "          'Species5',       # 4\n",
    "          'Species6',       # 5\n",
    "          'Species7',       # 6\n",
    "          'Species8',       # 7\n",
    "          ]\n"
   ]
  },
  {
   "cell_type": "code",
   "execution_count": null,
   "metadata": {},
   "outputs": [],
   "source": [
    "from tensorflow.keras.preprocessing.image import ImageDataGenerator\n",
    "\n",
    "# Create an instance of ImageDataGenerator with Data Augmentation\n",
    "aug_train_data_gen = ImageDataGenerator(rotation_range=50,\n",
    "                                        height_shift_range=5,\n",
    "                                        width_shift_range=5,\n",
    "                                        zoom_range=0.5,\n",
    "                                        shear_range = 0.1,\n",
    "                                        brightness_range=[0.4, 1.5],\n",
    "                                        horizontal_flip=True,\n",
    "                                        vertical_flip=True,\n",
    "                                        fill_mode='reflect',\n",
    "                                        rescale=1/255.)\n",
    "\n",
    "train_val_data_gen = ImageDataGenerator(rescale=1/255.)\n",
    "\n",
    "# Obtain a data generator with the 'ImageDataGenerator.flow_from_directory' method to create iterator over the indices\n",
    "aug_train_gen = aug_train_data_gen.flow_from_directory(directory=dataset_dir_train,\n",
    "                                                        target_size=(96, 96),\n",
    "                                                        color_mode='rgb',\n",
    "                                                        classes=None,\n",
    "                                                        class_mode='categorical',\n",
    "                                                        batch_size=batch_size,\n",
    "                                                        shuffle=True,#at the end of the epoch it will shuffle the data\n",
    "                                                        seed=seed,\n",
    "                                                        )\n",
    "\n",
    "val_gen = train_val_data_gen.flow_from_directory(directory=dataset_dir_val,\n",
    "                                                  target_size=(96, 96),\n",
    "                                                  color_mode='rgb',\n",
    "                                                  classes=None,\n",
    "                                                  class_mode='categorical',\n",
    "                                                  batch_size=batch_size,\n",
    "                                                  shuffle=True, \n",
    "                                                  seed=seed,\n",
    "                                                  )\n"
   ]
  },
  {
   "cell_type": "code",
   "execution_count": null,
   "metadata": {},
   "outputs": [],
   "source": [
    "# Download and plot the Xception model\n",
    "base_model = tf.keras.applications.Xception(\n",
    "    include_top=False,\n",
    "    weights=\"imagenet\",\n",
    "    input_tensor=None,\n",
    "    input_shape=input_shape,\n",
    "    classes=8, # number of classes to classify images into\n",
    "    classifier_activation=\"softmax\",\n",
    ")"
   ]
  },
  {
   "cell_type": "code",
   "execution_count": null,
   "metadata": {},
   "outputs": [],
   "source": [
    "from tensorflow.keras import regularizers\n",
    "from tensorflow.keras.regularizers import l2\n",
    "\n",
    "x = base_model.output\n",
    "x = GlobalAveragePooling2D()(x)\n",
    "x = tf.keras.layers.Flatten(name='Flatten')(x)\n",
    "x = tfkl.Dropout(0.1, seed=seed)(x)\n",
    "x = tfkl.Dense(units=256, name='Classifier', kernel_initializer=tfk.initializers.GlorotUniform(seed), kernel_regularizer=l2(0.0001),activation='relu')(x)\n",
    "x = tfkl.Dropout(0.1, seed=seed)(x)\n",
    "output_layer = tfkl.Dense(units=8, activation='softmax', kernel_initializer=tfk.initializers.GlorotUniform(seed),kernel_regularizer=l2(0.0001), name='output_layer')(x)\n",
    "\n",
    "model = tfk.Model(inputs=base_model.inputs, outputs=output_layer, name='model')\n",
    "    # Compile the model\n",
    "model.compile(loss=tfk.losses.CategoricalCrossentropy(), optimizer=tfk.optimizers.Adam(), metrics='accuracy')\n",
    "model.summary()"
   ]
  },
  {
   "cell_type": "code",
   "execution_count": null,
   "metadata": {},
   "outputs": [],
   "source": [
    "class_weights = {0: 2.389358108108108, \n",
    "                 1: 0.8320588235294117, \n",
    "                 2: 0.8583131067961165, \n",
    "                 3: 0.8667279411764706, \n",
    "                 4: 0.8340212264150944, \n",
    "                 5: 1.9978813559322033, \n",
    "                 6: 0.8243006993006993, \n",
    "                 7: 0.8709975369458128}"
   ]
  },
  {
   "cell_type": "code",
   "execution_count": null,
   "metadata": {
    "scrolled": true
   },
   "outputs": [],
   "source": [
    "callbacks = []\n",
    "\n",
    "# Tensorboard\n",
    "tensorboard = TensorBoard(log_dir=\"tb_logs/\")\n",
    "callbacks.append(tensorboard)\n",
    "# Early Stopping\n",
    "es_callback = tf.keras.callbacks.EarlyStopping(monitor='val_accuracy', patience=10, restore_best_weights=True)\n",
    "callbacks.append(es_callback)\n",
    "\n",
    "# Train the model\n",
    "model.fit(\n",
    "    x=aug_train_gen,\n",
    "    batch_size=batch_size,\n",
    "    epochs=epochs,\n",
    "    class_weight=class_weights,\n",
    "    validation_data=val_gen,\n",
    "    callbacks= callbacks)\n",
    "\n",
    "model.save(\"testing_x/CNN_xception_3.0_fine_tuning_12\")"
   ]
  },
  {
   "cell_type": "code",
   "execution_count": null,
   "metadata": {},
   "outputs": [],
   "source": [
    "#fine tuning\n",
    "del model\n",
    "model = tfk.models.load_model('testing_x/CNN_xception_3.0_fine_tuning_12')\n",
    "model.summary()"
   ]
  },
  {
   "cell_type": "code",
   "execution_count": null,
   "metadata": {},
   "outputs": [],
   "source": [
    "for layer in base_model.layers[:fine_tuning_locked]:\n",
    "    layer.trainable = False"
   ]
  },
  {
   "cell_type": "code",
   "execution_count": null,
   "metadata": {},
   "outputs": [],
   "source": [
    "# Compile the model\n",
    "model.compile(loss=tfk.losses.CategoricalCrossentropy(), optimizer=tfk.optimizers.Adam(1e-4), metrics='accuracy')"
   ]
  },
  {
   "cell_type": "code",
   "execution_count": null,
   "metadata": {},
   "outputs": [],
   "source": [
    "# Fine-tune the model\n",
    "model.fit(\n",
    "    x = aug_train_gen,\n",
    "    batch_size = batch_size,\n",
    "    epochs = epochs,\n",
    "    validation_data=val_gen,\n",
    "    callbacks = [tfk.callbacks.EarlyStopping(monitor='val_accuracy', mode='max', patience=10, restore_best_weights=True)]\n",
    ")"
   ]
  },
  {
   "cell_type": "code",
   "execution_count": null,
   "metadata": {},
   "outputs": [],
   "source": [
    "model.save('testing_x/FineTuningModel_12')"
   ]
  }
 ],
 "metadata": {
  "kernelspec": {
   "display_name": "Python 3 (ipykernel)",
   "language": "python",
   "name": "python3"
  },
  "language_info": {
   "codemirror_mode": {
    "name": "ipython",
    "version": 3
   },
   "file_extension": ".py",
   "mimetype": "text/x-python",
   "name": "python",
   "nbconvert_exporter": "python",
   "pygments_lexer": "ipython3",
   "version": "3.9.13"
  }
 },
 "nbformat": 4,
 "nbformat_minor": 4
}
